{
 "cells": [
  {
   "attachments": {},
   "cell_type": "markdown",
   "metadata": {},
   "source": [
    "# Trabalho Final - Introdução à Teoria da Informação\n",
    "\n",
    "##### Ana Luisa Miranda - 20200017005\n",
    "##### Helio Lima Correia II - 202000123868"
   ]
  },
  {
   "cell_type": "code",
   "execution_count": 10,
   "metadata": {},
   "outputs": [],
   "source": [
    "import random\n",
    "import os"
   ]
  },
  {
   "cell_type": "code",
   "execution_count": 11,
   "metadata": {},
   "outputs": [],
   "source": [
    "# Função para adicionar uma nova sequência ao dicionário durante a compressão LZW\n",
    "def adicionar_nova_sequencia_ao_dicionario(dicionario, nova_sequencia):\n",
    "    proximo_codigo = len(dicionario)  # O próximo código disponível é o tamanho atual do dicionário\n",
    "    dicionario[nova_sequencia] = proximo_codigo  # Adiciona a nova sequência ao dicionário com o próximo código disponível"
   ]
  },
  {
   "cell_type": "code",
   "execution_count": 12,
   "metadata": {},
   "outputs": [],
   "source": [
    "# Função para criar o dicionário inicial para o algoritmo LZW\n",
    "def criar_dicionario_inicial():\n",
    "    dicionario = {}\n",
    "    # Adiciona todas as entradas de 0 a 255 (todos os bytes possíveis) ao dicionário inicial\n",
    "    for i in range(256):\n",
    "        dicionario[(i.to_bytes(1, byteorder='big', signed=False))] = i\n",
    "    return dicionario"
   ]
  },
  {
   "cell_type": "code",
   "execution_count": 13,
   "metadata": {},
   "outputs": [],
   "source": [
    "# Função principal de compressão LZW\n",
    "def compressao_LZW(nome_arquivo, tamanho_maximo):\n",
    "    dicionario = criar_dicionario_inicial()  # Cria o dicionário inicial\n",
    "    tam_max_dic = 2 ** tamanho_maximo  # Define o tamanho máximo do dicionário\n",
    "    buffer = b''  # Buffer para armazenar a sequência atual\n",
    "    codigos = []  # Lista para armazenar os códigos gerados pela compressão\n",
    "\n",
    "    # Abre o arquivo para leitura em modo binário\n",
    "    with open(nome_arquivo, 'rb') as arquivo:\n",
    "        while True:\n",
    "            byte = arquivo.read(1)  # Lê um byte do arquivo\n",
    "\n",
    "            if not byte:\n",
    "                break  # Se não houver mais bytes, encerra o loop\n",
    "            \n",
    "            nova_sequencia = buffer + byte  # Cria uma nova sequência com o buffer atual e o byte lido\n",
    "\n",
    "            if nova_sequencia in dicionario:\n",
    "                buffer = nova_sequencia  # Se a sequência está no dicionário, atualiza o buffer\n",
    "            else:\n",
    "                if len(dicionario) < tam_max_dic:  # Verifica se o dicionário não atingiu o tamanho máximo\n",
    "                    adicionar_nova_sequencia_ao_dicionario(dicionario, nova_sequencia)  # Adiciona a nova sequência ao dicionário\n",
    "                codigos.append(dicionario[buffer])  # Adiciona o código correspondente ao buffer na lista de códigos\n",
    "                buffer = byte  # Atualiza o buffer com o byte atual\n",
    "\n",
    "    if buffer:\n",
    "        codigos.append(dicionario[buffer])  # Adiciona o código da última sequência no buffer, se houver\n",
    "    \n",
    "    return dicionario  # Retorna o dicionário resultante"
   ]
  },
  {
   "cell_type": "code",
   "execution_count": 14,
   "metadata": {},
   "outputs": [],
   "source": [
    "# Função para reconhecimento de padrões baseada no dicionário gerado\n",
    "def rec_pad(nome_arquivo, dicionario):\n",
    "    buffer = b''  # Buffer para armazenar a sequência atual\n",
    "    codigos = []  # Lista para armazenar os códigos gerados\n",
    "\n",
    "    # Abre o arquivo para leitura em modo binário\n",
    "    with open(nome_arquivo, 'rb') as arquivo:\n",
    "        cabe = arquivo.read(14)  # Lê e descarta o cabeçalho do arquivo (14 bytes)\n",
    "        while True:\n",
    "            byte = arquivo.read(1)  # Lê um byte do arquivo\n",
    "\n",
    "            if not byte:\n",
    "                break  # Se não houver mais bytes, encerra o loop\n",
    "            \n",
    "            nova_sequencia = buffer + byte  # Cria uma nova sequência com o buffer atual e o byte lido\n",
    "\n",
    "            if nova_sequencia in dicionario:\n",
    "                buffer = nova_sequencia  # Se a sequência está no dicionário, atualiza o buffer\n",
    "            else:\n",
    "                codigos.append(dicionario[buffer])  # Adiciona o código correspondente ao buffer na lista de códigos\n",
    "                buffer = byte  # Atualiza o buffer com o byte atual\n",
    "\n",
    "    if buffer:\n",
    "        codigos.append(dicionario[buffer])  # Adiciona o código da última sequência no buffer, se houver\n",
    "    \n",
    "    return len(codigos)  # Retorna o número de códigos gerados"
   ]
  },
  {
   "cell_type": "code",
   "execution_count": 15,
   "metadata": {},
   "outputs": [],
   "source": [
    "# Função para concatenar vários arquivos em um único arquivo binário\n",
    "def concatena(arquivos):\n",
    "    arquivo_saida = 'saida.bin'  # Nome do arquivo de saída\n",
    "\n",
    "    # Abre o arquivo de saída em modo de escrita binária\n",
    "    with open(arquivo_saida, 'wb') as arquivo_final:\n",
    "        # Itera sobre a lista de arquivos\n",
    "        for nome_arquivo in arquivos:\n",
    "            # Abre cada arquivo de entrada em modo de leitura binária\n",
    "            with open(nome_arquivo, 'rb') as arquivo:\n",
    "                cabe = arquivo.read(14)  # Lê e descarta o cabeçalho do arquivo (14 bytes)\n",
    "                conteudo = arquivo.read()  # Lê o conteúdo do arquivo\n",
    "                arquivo_final.write(conteudo)  # Escreve o conteúdo no arquivo de saída\n",
    "                \n",
    "    return arquivo_saida  # Retorna o nome do arquivo de saída"
   ]
  },
  {
   "cell_type": "code",
   "execution_count": 16,
   "metadata": {},
   "outputs": [
    {
     "name": "stdout",
     "output_type": "stream",
     "text": [
      "['orl_faces/orl_faces/s1/4.pgm', 'orl_faces/orl_faces/s2/4.pgm', 'orl_faces/orl_faces/s3/5.pgm', 'orl_faces/orl_faces/s4/6.pgm', 'orl_faces/orl_faces/s5/1.pgm', 'orl_faces/orl_faces/s6/9.pgm', 'orl_faces/orl_faces/s7/6.pgm', 'orl_faces/orl_faces/s8/1.pgm', 'orl_faces/orl_faces/s9/1.pgm', 'orl_faces/orl_faces/s10/1.pgm', 'orl_faces/orl_faces/s11/2.pgm', 'orl_faces/orl_faces/s12/4.pgm', 'orl_faces/orl_faces/s13/6.pgm', 'orl_faces/orl_faces/s14/7.pgm', 'orl_faces/orl_faces/s15/6.pgm', 'orl_faces/orl_faces/s16/3.pgm', 'orl_faces/orl_faces/s17/10.pgm', 'orl_faces/orl_faces/s18/1.pgm', 'orl_faces/orl_faces/s19/2.pgm', 'orl_faces/orl_faces/s20/8.pgm', 'orl_faces/orl_faces/s21/6.pgm', 'orl_faces/orl_faces/s22/3.pgm', 'orl_faces/orl_faces/s23/10.pgm', 'orl_faces/orl_faces/s24/4.pgm', 'orl_faces/orl_faces/s25/4.pgm', 'orl_faces/orl_faces/s26/2.pgm', 'orl_faces/orl_faces/s27/9.pgm', 'orl_faces/orl_faces/s28/3.pgm', 'orl_faces/orl_faces/s29/1.pgm', 'orl_faces/orl_faces/s30/8.pgm', 'orl_faces/orl_faces/s31/8.pgm', 'orl_faces/orl_faces/s32/5.pgm', 'orl_faces/orl_faces/s33/1.pgm', 'orl_faces/orl_faces/s34/9.pgm', 'orl_faces/orl_faces/s35/7.pgm', 'orl_faces/orl_faces/s36/3.pgm', 'orl_faces/orl_faces/s37/2.pgm', 'orl_faces/orl_faces/s38/7.pgm', 'orl_faces/orl_faces/s39/8.pgm', 'orl_faces/orl_faces/s40/7.pgm']\n",
      "numero de amostras = 40\n"
     ]
    }
   ],
   "source": [
    "# Inicializa os bancos de dados e as amostras\n",
    "bancos = 40  # Número de bancos\n",
    "faces = []  # Lista para armazenar os bancos de imagens\n",
    "amostras = []  # Lista para armazenar as amostras selecionadas\n",
    "\n",
    "# Preenche a lista de bancos de imagens\n",
    "for i in range(bancos):\n",
    "    pessoa = [f'orl_faces/orl_faces/s{i+1}/{j}.pgm' for j in range(1, 11)]  # Cada banco contém 10 imagens\n",
    "    faces.append(pessoa)\n",
    "\n",
    "# Seleciona aleatoriamente uma amostra de cada banco\n",
    "for i in faces:\n",
    "    indice_aleatorio = random.randint(0, 9)  # Seleciona um índice aleatório entre 0 e 9\n",
    "    amostras.append(i.pop(indice_aleatorio))  # Remove a imagem selecionada do banco e adiciona à lista de amostras\n",
    "\n",
    "print(amostras)  # Imprime a lista de amostras\n",
    "print(f'numero de amostras = {len(amostras)}')  # Imprime o número de amostras selecionadas\n"
   ]
  },
  {
   "cell_type": "code",
   "execution_count": 17,
   "metadata": {},
   "outputs": [],
   "source": [
    "# Inicializa variáveis para armazenar os resultados\n",
    "RCs = []\n",
    "aux2 = []\n",
    "aux3 = []\n",
    "\n",
    "# Loop para testar diferentes valores de K (tamanho máximo do dicionário)\n",
    "for k in range(9, 17):\n",
    "    dicionarios = []\n",
    "\n",
    "    # Concatena as imagens de cada banco e realiza a compressão LZW\n",
    "    for i in range(bancos):\n",
    "        aux = concatena(faces[i])\n",
    "        dicionarios.append(compressao_LZW(aux, k))\n",
    "\n",
    "    # Calcula a taxa de compressão para cada amostra usando cada dicionário\n",
    "    for i in amostras:\n",
    "        for j in dicionarios:\n",
    "            compressao = rec_pad(i, j)  # Calcula o número de códigos gerados para a amostra\n",
    "            file_stats = os.stat(i)  # Obtém o tamanho do arquivo original\n",
    "            RC = compressao / file_stats.st_size  # Calcula a taxa de compressão\n",
    "            aux2.append(RC)  # Adiciona a taxa de compressão à lista auxiliar\n",
    "        aux3.append(aux2.copy())  # Adiciona os resultados de compressão para a amostra\n",
    "        aux2.clear()  # Limpa a lista auxiliar\n",
    "    RCs.append(aux3.copy())  # Adiciona os resultados para o valor atual de K\n",
    "    aux3.clear()  # Limpa a lista auxiliar"
   ]
  },
  {
   "cell_type": "code",
   "execution_count": 18,
   "metadata": {},
   "outputs": [
    {
     "name": "stdout",
     "output_type": "stream",
     "text": [
      "k = 9\n",
      "acertos = 25.0%, erros = 75.0%\n",
      "k = 10\n",
      "acertos = 20.0%, erros = 80.0%\n",
      "k = 11\n",
      "acertos = 15.0%, erros = 85.0%\n",
      "k = 12\n",
      "acertos = 32.5%, erros = 67.5%\n",
      "k = 13\n",
      "acertos = 67.5%, erros = 32.5%\n",
      "k = 14\n",
      "acertos = 60.0%, erros = 40.0%\n",
      "k = 15\n",
      "acertos = 92.5%, erros = 7.5%\n",
      "k = 16\n",
      "acertos = 95.0%, erros = 5.0%\n"
     ]
    }
   ],
   "source": [
    "# Loop para calcular e imprimir as taxas de acerto e erro para cada valor de K\n",
    "for k in range(8):\n",
    "    erro = 0\n",
    "    acertos = 0\n",
    "    print(f'k = {k+9}')\n",
    "    for i in range(len(amostras)):\n",
    "        menor = RCs[k][i][i]  # Assume que o menor valor inicial é o da própria amostra\n",
    "        for j in range(len(dicionarios)):\n",
    "            if RCs[k][i][j] < menor:\n",
    "                menor = RCs[k][i][j]  # Atualiza o menor valor se encontrar uma taxa de compressão menor\n",
    "        if RCs[k][i][i] == menor:\n",
    "            acertos += 1  # Conta como acerto se a menor taxa for a da própria amostra\n",
    "        else:\n",
    "            erro += 1  # Conta como erro caso contrário\n",
    "    print(f'acertos = {acertos / len(amostras) * 100}%, erros = {erro / len(amostras) * 100}%')  # Imprime as taxas de acerto e erro\n"
   ]
  }
 ],
 "metadata": {
  "kernelspec": {
   "display_name": "base",
   "language": "python",
   "name": "python3"
  },
  "language_info": {
   "codemirror_mode": {
    "name": "ipython",
    "version": 3
   },
   "file_extension": ".py",
   "mimetype": "text/x-python",
   "name": "python",
   "nbconvert_exporter": "python",
   "pygments_lexer": "ipython3",
   "version": "3.10.12"
  },
  "orig_nbformat": 4
 },
 "nbformat": 4,
 "nbformat_minor": 2
}
