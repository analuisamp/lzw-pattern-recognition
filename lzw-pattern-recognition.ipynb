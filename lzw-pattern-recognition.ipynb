{
 "cells": [
  {
   "attachments": {},
   "cell_type": "markdown",
   "metadata": {},
   "source": [
    "# Trabalho Final - Introdução à Teoria da Informação\n",
    "\n",
    "##### Ana Luisa Miranda - 20200017005\n",
    "##### Helio Lima Correia - 202000123868"
   ]
  },
  {
   "cell_type": "code",
   "execution_count": 10,
   "metadata": {},
   "outputs": [],
   "source": [
    "import random\n",
    "import os"
   ]
  },
  {
   "cell_type": "code",
   "execution_count": 11,
   "metadata": {},
   "outputs": [],
   "source": [
    "def adicionar_nova_sequencia_ao_dicionario(dicionario, nova_sequencia):\n",
    "    proximo_codigo = len(dicionario)\n",
    "    dicionario[nova_sequencia] = proximo_codigo"
   ]
  },
  {
   "cell_type": "code",
   "execution_count": 12,
   "metadata": {},
   "outputs": [],
   "source": [
    "def criar_dicionario_inicial():\n",
    "    dicionario = {}\n",
    "    for i in range(256):\n",
    "        dicionario[(i.to_bytes(1,byteorder='big',signed=False))] = i\n",
    "    return dicionario"
   ]
  },
  {
   "cell_type": "code",
   "execution_count": 13,
   "metadata": {},
   "outputs": [],
   "source": [
    "def compressao_LZW(nome_arquivo, tamanho_maximo):\n",
    "    dicionario = criar_dicionario_inicial()\n",
    "    tam_max_dic = 2 ** tamanho_maximo\n",
    "    buffer = b''\n",
    "    codigos = []\n",
    "\n",
    "    with open(nome_arquivo, 'rb') as arquivo:\n",
    "        while True:\n",
    "            byte = arquivo.read(1)\n",
    "\n",
    "            if not byte:\n",
    "                break\n",
    "            \n",
    "            nova_sequencia = buffer + byte\n",
    "\n",
    "            if nova_sequencia in dicionario:\n",
    "                buffer = nova_sequencia\n",
    "            else:\n",
    "                if(len(dicionario) < tam_max_dic): # verifica tamanho maximo do dicionario\n",
    "                    adicionar_nova_sequencia_ao_dicionario(dicionario, nova_sequencia)\n",
    "                codigos.append(dicionario[buffer])\n",
    "                buffer = byte\n",
    "\n",
    "    if buffer:\n",
    "        codigos.append(dicionario[buffer])\n",
    "    #print(dicionario)\n",
    "    return dicionario"
   ]
  },
  {
   "cell_type": "code",
   "execution_count": 14,
   "metadata": {},
   "outputs": [],
   "source": [
    "def rec_pad(nome_arquivo, dicionario):\n",
    "    #tam_max_dic = 2 ** tamanho_maximo\n",
    "    buffer = b''\n",
    "    codigos = []\n",
    "\n",
    "    with open(nome_arquivo, 'rb') as arquivo:\n",
    "        cabe = arquivo.read(14)\n",
    "        #print(cabe)\n",
    "        while True:\n",
    "            byte = arquivo.read(1)\n",
    "\n",
    "            if not byte:\n",
    "                break\n",
    "            \n",
    "            nova_sequencia = buffer + byte\n",
    "\n",
    "            if nova_sequencia in dicionario:\n",
    "                buffer = nova_sequencia\n",
    "            else:\n",
    "                codigos.append(dicionario[buffer])\n",
    "                buffer = byte\n",
    "\n",
    "    if buffer:\n",
    "        codigos.append(dicionario[buffer])\n",
    "    \n",
    "    return len(codigos)"
   ]
  },
  {
   "cell_type": "code",
   "execution_count": 15,
   "metadata": {},
   "outputs": [],
   "source": [
    "def concatena(arquivos):\n",
    "\n",
    "    # Nome do arquivo de saída\n",
    "    arquivo_saida = 'saida.bin'\n",
    "\n",
    "    # Abrir o arquivo de saída em modo de escrita\n",
    "    with open(arquivo_saida, 'wb') as arquivo_final:\n",
    "        # Iterar sobre a lista de arquivos\n",
    "        for nome_arquivo in arquivos:\n",
    "            # Abrir cada arquivo de entrada em modo de leitura\n",
    "            with open(nome_arquivo, 'rb') as arquivo:\n",
    "                #retira o cabeçalho\n",
    "                cabe = arquivo.read(14)\n",
    "                #print(cabe)\n",
    "                # Ler o conteúdo do arquivo de entrada\n",
    "                conteudo = arquivo.read()\n",
    "                #print(conteudo)\n",
    "                # Escrever o conteúdo no arquivo de saída\n",
    "                arquivo_final.write(conteudo)\n",
    "                \n",
    "            # Adicionar uma quebra de linha entre os arquivos (opcional)\n",
    "            #arquivo_final.write('\\n')\n",
    "    return arquivo_saida\n",
    " "
   ]
  },
  {
   "cell_type": "code",
   "execution_count": 16,
   "metadata": {},
   "outputs": [
    {
     "name": "stdout",
     "output_type": "stream",
     "text": [
      "['orl_faces/orl_faces/s1/4.pgm', 'orl_faces/orl_faces/s2/4.pgm', 'orl_faces/orl_faces/s3/5.pgm', 'orl_faces/orl_faces/s4/6.pgm', 'orl_faces/orl_faces/s5/1.pgm', 'orl_faces/orl_faces/s6/9.pgm', 'orl_faces/orl_faces/s7/6.pgm', 'orl_faces/orl_faces/s8/1.pgm', 'orl_faces/orl_faces/s9/1.pgm', 'orl_faces/orl_faces/s10/1.pgm', 'orl_faces/orl_faces/s11/2.pgm', 'orl_faces/orl_faces/s12/4.pgm', 'orl_faces/orl_faces/s13/6.pgm', 'orl_faces/orl_faces/s14/7.pgm', 'orl_faces/orl_faces/s15/6.pgm', 'orl_faces/orl_faces/s16/3.pgm', 'orl_faces/orl_faces/s17/10.pgm', 'orl_faces/orl_faces/s18/1.pgm', 'orl_faces/orl_faces/s19/2.pgm', 'orl_faces/orl_faces/s20/8.pgm', 'orl_faces/orl_faces/s21/6.pgm', 'orl_faces/orl_faces/s22/3.pgm', 'orl_faces/orl_faces/s23/10.pgm', 'orl_faces/orl_faces/s24/4.pgm', 'orl_faces/orl_faces/s25/4.pgm', 'orl_faces/orl_faces/s26/2.pgm', 'orl_faces/orl_faces/s27/9.pgm', 'orl_faces/orl_faces/s28/3.pgm', 'orl_faces/orl_faces/s29/1.pgm', 'orl_faces/orl_faces/s30/8.pgm', 'orl_faces/orl_faces/s31/8.pgm', 'orl_faces/orl_faces/s32/5.pgm', 'orl_faces/orl_faces/s33/1.pgm', 'orl_faces/orl_faces/s34/9.pgm', 'orl_faces/orl_faces/s35/7.pgm', 'orl_faces/orl_faces/s36/3.pgm', 'orl_faces/orl_faces/s37/2.pgm', 'orl_faces/orl_faces/s38/7.pgm', 'orl_faces/orl_faces/s39/8.pgm', 'orl_faces/orl_faces/s40/7.pgm']\n",
      "numero de amostras = 40\n"
     ]
    }
   ],
   "source": [
    "bancos = 40\n",
    "faces = []\n",
    "amostras = []\n",
    "\n",
    "for i in range(bancos):\n",
    "    pessoa = [f'orl_faces/orl_faces/s{i+1}/1.pgm', f'orl_faces/orl_faces/s{i+1}/2.pgm', f'orl_faces/orl_faces/s{i+1}/3.pgm', f'orl_faces/orl_faces/s{i+1}/4.pgm', f'orl_faces/orl_faces/s{i+1}/5.pgm', f'orl_faces/orl_faces/s{i+1}/6.pgm', f'orl_faces/orl_faces/s{i+1}/7.pgm', f'orl_faces/orl_faces/s{i+1}/8.pgm', f'orl_faces/orl_faces/s{i+1}/9.pgm', f'orl_faces/orl_faces/s{i+1}/10.pgm']\n",
    "    faces.append(pessoa)\n",
    "\n",
    "for i in faces:\n",
    "    indice_aleatorio = random.randint(0, 9)\n",
    "    amostras.append(i.pop(indice_aleatorio))\n",
    "\n",
    "print(amostras)\n",
    "print(f'numero de amostras = {len(amostras)}')"
   ]
  },
  {
   "cell_type": "code",
   "execution_count": 17,
   "metadata": {},
   "outputs": [],
   "source": [
    "RCs = []\n",
    "aux2 = []\n",
    "aux3 = []\n",
    "\n",
    "for k in range(9,17):\n",
    "\n",
    "    dicionarios = []\n",
    "\n",
    "    for i in range(bancos):\n",
    "        aux = concatena(faces[i])\n",
    "        dicionarios.append(compressao_LZW(aux,k))\n",
    "\n",
    "    #print(len(dicionarios))\n",
    "\n",
    "    for i in amostras:\n",
    "        for j in dicionarios:\n",
    "            compressao = rec_pad(i, j)\n",
    "            file_stats = os.stat(i)\n",
    "            RC = compressao/file_stats.st_size\n",
    "            aux2.append(RC)\n",
    "        #print(len(aux2),aux2)\n",
    "        aux3.append(aux2.copy())\n",
    "        aux2.clear()\n",
    "    RCs.append(aux3.copy())\n",
    "    aux3.clear()\n",
    "#print(RCs)\n",
    "#print(len(RCs))"
   ]
  },
  {
   "cell_type": "code",
   "execution_count": 18,
   "metadata": {},
   "outputs": [
    {
     "name": "stdout",
     "output_type": "stream",
     "text": [
      "k = 9\n",
      "acertos = 25.0%, erros = 75.0%\n",
      "k = 10\n",
      "acertos = 20.0%, erros = 80.0%\n",
      "k = 11\n",
      "acertos = 15.0%, erros = 85.0%\n",
      "k = 12\n",
      "acertos = 32.5%, erros = 67.5%\n",
      "k = 13\n",
      "acertos = 67.5%, erros = 32.5%\n",
      "k = 14\n",
      "acertos = 60.0%, erros = 40.0%\n",
      "k = 15\n",
      "acertos = 92.5%, erros = 7.5%\n",
      "k = 16\n",
      "acertos = 95.0%, erros = 5.0%\n"
     ]
    }
   ],
   "source": [
    "for k in range(8):\n",
    "    erro = 0\n",
    "    acertos = 0\n",
    "    print(f'k = {k+9}')\n",
    "    for i in range(len(amostras)):\n",
    "        #print(f'amostra {i+1}')\n",
    "        menor = RCs[k][i][i]\n",
    "        #print(f'prime = {menor}')\n",
    "        for j in range(len(dicionarios)):\n",
    "            if(RCs[k][i][j] < menor):\n",
    "                menor = RCs[k][i][j]\n",
    "            #print(f'dicionario {j+1}: {RCs[k][i][j]}')\n",
    "        if(RCs[k][i][i] == menor):\n",
    "            acertos += 1\n",
    "        else:\n",
    "            erro += 1\n",
    "        #print(f'menor = {menor}')\n",
    "       \n",
    "    print(f'acertos = {acertos/(len(amostras))*100}%, erros = {erro/(len(amostras))*100}%')"
   ]
  }
 ],
 "metadata": {
  "kernelspec": {
   "display_name": "base",
   "language": "python",
   "name": "python3"
  },
  "language_info": {
   "codemirror_mode": {
    "name": "ipython",
    "version": 3
   },
   "file_extension": ".py",
   "mimetype": "text/x-python",
   "name": "python",
   "nbconvert_exporter": "python",
   "pygments_lexer": "ipython3",
   "version": "3.10.12"
  },
  "orig_nbformat": 4
 },
 "nbformat": 4,
 "nbformat_minor": 2
}
